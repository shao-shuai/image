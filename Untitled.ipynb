{
 "cells": [
  {
   "cell_type": "code",
   "execution_count": 22,
   "id": "81c78029-42bc-4aa1-b9ec-7797bacf5586",
   "metadata": {},
   "outputs": [],
   "source": [
    "from util import connect_to_database\n",
    "from sqlalchemy.ext.declarative import declarative_base\n",
    "from sqlalchemy import MetaData"
   ]
  },
  {
   "cell_type": "code",
   "execution_count": 26,
   "id": "cb4fa385-4983-453f-ab46-209e5e28988b",
   "metadata": {},
   "outputs": [],
   "source": [
    "eng = connect_to_database()"
   ]
  },
  {
   "cell_type": "code",
   "execution_count": 13,
   "id": "2b7b5ed3-f9f6-4336-975a-df4b2f656302",
   "metadata": {},
   "outputs": [
    {
     "data": {
      "text/plain": [
       "MetaData()"
      ]
     },
     "execution_count": 13,
     "metadata": {},
     "output_type": "execute_result"
    }
   ],
   "source": [
    "Base = declarative_base()\n",
    "Base.metadata"
   ]
  },
  {
   "cell_type": "code",
   "execution_count": 48,
   "id": "c72b5be0-01b5-4c84-8cc3-8864ba2263bd",
   "metadata": {},
   "outputs": [
    {
     "name": "stderr",
     "output_type": "stream",
     "text": [
      "<ipython-input-48-efe8e46a6bb7>:1: SADeprecationWarning: The Engine.table_names() method is deprecated and will be removed in a future release.  Please refer to Inspector.get_table_names(). (deprecated since: 1.4)\n",
      "  eng.table_names()\n"
     ]
    },
    {
     "data": {
      "text/plain": [
       "['across_canonical',\n",
       " 'across_pnl',\n",
       " 'across_pools',\n",
       " 'chains',\n",
       " 'prices',\n",
       " 'relayer_balance',\n",
       " 'tokens',\n",
       " 'transfers']"
      ]
     },
     "execution_count": 48,
     "metadata": {},
     "output_type": "execute_result"
    }
   ],
   "source": [
    "eng.table_names()"
   ]
  },
  {
   "cell_type": "code",
   "execution_count": 42,
   "id": "5f8ba2d3-71ea-400b-a405-0df0e63fe56f",
   "metadata": {},
   "outputs": [],
   "source": [
    "#eng.execute(\"SELECT * FROM across_canonical\").fetchall()"
   ]
  },
  {
   "cell_type": "code",
   "execution_count": 38,
   "id": "ed1d04ed-4765-41a7-9f3d-3f70350df08d",
   "metadata": {},
   "outputs": [
    {
     "data": {
      "text/plain": [
       "RMKeyView(['chain_id', 'block', 'tx', 'dt', 'symbol', 'amount', 'finalized'])"
      ]
     },
     "execution_count": 38,
     "metadata": {},
     "output_type": "execute_result"
    }
   ],
   "source": [
    "eng.execute(\"SELECT * FROM across_canonical\").keys()"
   ]
  },
  {
   "cell_type": "code",
   "execution_count": 43,
   "id": "3d9b1434-19da-4af4-a7c6-14707186fbdd",
   "metadata": {},
   "outputs": [],
   "source": [
    "test = eng.execute(\"SELECT * FROM across_canonical\")"
   ]
  },
  {
   "cell_type": "code",
   "execution_count": 45,
   "id": "16b58e63-0d8e-4630-95fd-d30aedff9736",
   "metadata": {},
   "outputs": [
    {
     "data": {
      "text/plain": [
       "<sqlalchemy.engine.cursor.LegacyCursorResult at 0x11baef430>"
      ]
     },
     "execution_count": 45,
     "metadata": {},
     "output_type": "execute_result"
    }
   ],
   "source": [
    "test."
   ]
  },
  {
   "cell_type": "code",
   "execution_count": null,
   "id": "343c7a7d-ebc5-45fe-a013-4f6345d44c57",
   "metadata": {},
   "outputs": [],
   "source": []
  }
 ],
 "metadata": {
  "kernelspec": {
   "display_name": "Python 3",
   "language": "python",
   "name": "python3"
  },
  "language_info": {
   "codemirror_mode": {
    "name": "ipython",
    "version": 3
   },
   "file_extension": ".py",
   "mimetype": "text/x-python",
   "name": "python",
   "nbconvert_exporter": "python",
   "pygments_lexer": "ipython3",
   "version": "3.9.5"
  }
 },
 "nbformat": 4,
 "nbformat_minor": 5
}
